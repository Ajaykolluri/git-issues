{
 "cells": [
  {
   "cell_type": "code",
   "id": "initial_id",
   "metadata": {
    "collapsed": true,
    "ExecuteTime": {
     "end_time": "2025-08-03T07:52:25.913825Z",
     "start_time": "2025-08-03T07:52:25.903964Z"
    }
   },
   "source": [
    "from pyspark.sql.functions import to_timestamp, date_diff,col, explode, ceiling,avg, count, date_format, lag, when, months_between, desc\n",
    "from pyspark.sql.functions import from_json\n",
    "from pyspark.sql.types import ArrayType, StringType\n",
    "from pyspark.sql.window import Window\n"
   ],
   "outputs": [],
   "execution_count": 72
  },
  {
   "metadata": {},
   "cell_type": "markdown",
   "source": "# Creating SparkSession",
   "id": "e24512809593b2ad"
  },
  {
   "metadata": {},
   "cell_type": "code",
   "source": [
    "from pyspark.sql import SparkSession\n",
    "\n",
    "spark = SparkSession.builder \\\n",
    "    .appName(\"MyPySparkApp\") \\\n",
    "    .getOrCreate()\n",
    "spark.sparkContext.setLogLevel(\"OFF\")"
   ],
   "id": "15ae75e05a570559",
   "outputs": [],
   "execution_count": null
  },
  {
   "metadata": {},
   "cell_type": "markdown",
   "source": "# Reading csv file using pyspark and creating the dataframe and TempView.",
   "id": "1112f8130df8233c"
  },
  {
   "metadata": {
    "ExecuteTime": {
     "end_time": "2025-08-03T07:54:09.546565Z",
     "start_time": "2025-08-03T07:54:07.673159Z"
    }
   },
   "cell_type": "code",
   "source": [
    "spark_df = spark.read.csv(\"gh_issues.csv\", header=True, inferSchema=True)\n",
    "spark_df.createOrReplaceTempView(\"issues\")"
   ],
   "id": "27eeb338ecfc40d8",
   "outputs": [],
   "execution_count": 2
  },
  {
   "metadata": {
    "ExecuteTime": {
     "end_time": "2025-08-02T11:48:00.951232Z",
     "start_time": "2025-08-02T11:48:00.812966Z"
    }
   },
   "cell_type": "code",
   "source": [
    "# # df_result = spark_df.withColumn(\"duration_months\", months_between(col(\"closed_at\"), col(\"created_at\")).cast(\"int\"))\n",
    "# # print(df_result.where(col(\"duration_months\")>1).show())\n",
    "# df_result = spark_df.withColumn(\"duration_months_new\",\n",
    "#                           (year(col(\"closed_at\")) - year(col(\"created_at\"))) * 12 + \\\n",
    "#                           (month(col(\"closed_at\")) - month(col(\"created_at\")))\n",
    "#                           )\n",
    "# average_months_new = df_result.select(avg(col(\"duration_months_new\")).alias(\"average_duration_months_new\"))\n",
    "# df_result.show()"
   ],
   "id": "fefa987992761b49",
   "outputs": [
    {
     "name": "stdout",
     "output_type": "stream",
     "text": [
      "+---+--------+--------------------+----------------+-----------+-------------------+-------------------+-----------+-------------------+\n",
      "| id|issue_no|         issue_title|issue_created_by|issue_state|         created_at|          closed_at| commenters|duration_months_new|\n",
      "+---+--------+--------------------+----------------+-----------+-------------------+-------------------+-----------+-------------------+\n",
      "|  0|    1050|The reward criter...|       XXXJCSAMA|       open|2025-07-21 09:30:37|               NULL|         []|               NULL|\n",
      "|  1|    1049|   Pool swapreferrer|         yurivin|     closed|2025-07-20 18:43:52|2025-07-20 18:54:56|         []|                  0|\n",
      "|  2|    1048|                 Jub|         jovxx44|       open|2025-07-18 14:58:57|               NULL|         []|               NULL|\n",
      "|  3|    1047|fix comment of `c...|      zhiqiangxu|       open|2025-07-17 23:53:47|               NULL|         []|               NULL|\n",
      "|  4|    1046|               Juben|         jovxx44|       open|2025-07-17 18:34:15|               NULL|         []|               NULL|\n",
      "|  5|    1045|               Juben|         jovxx44|       open|2025-07-17 18:33:57|               NULL|         []|               NULL|\n",
      "|  6|    1044|`_updatePosition`...|      zhiqiangxu|       open|2025-07-17 11:34:32|               NULL|         []|               NULL|\n",
      "|  7|    1042|incorrect TVL val...|        tonik-ru|       open|2025-07-06 02:10:44|               NULL|         []|               NULL|\n",
      "|  8|    1041|Request for Unisw...|       Fileofish|     closed|2025-06-19 15:29:46|2025-06-19 17:46:08|         []|                  0|\n",
      "|  9|    1040|Remove flash feature|      UrfinDeuce|     closed|2025-06-03 15:12:47|2025-06-03 15:13:01|         []|                  0|\n",
      "| 10|    1039|Swap event someti...|      DenyVeyten|       open|2025-05-27 17:29:21|               NULL|         []|               NULL|\n",
      "| 11|    1038|Create generator-...|      AmandaG133|       open|2025-04-11 01:38:26|               NULL|         []|               NULL|\n",
      "| 12|    1037|docs: removed the...|      Olexandr88|     closed|2025-04-02 16:06:49|2025-06-08 19:10:15|         []|                  2|\n",
      "| 13|    1036|                Test|         ramik10|     closed|2025-04-01 17:35:03|2025-04-01 17:35:27|         []|                  0|\n",
      "| 14|    1035|Included support ...|         purriza|     closed|2025-03-31 20:45:17|2025-06-06 22:35:56|         []|                  3|\n",
      "| 15|    1034|      Duplicate code|        lyc-1025|       open|2025-03-27 07:58:37|               NULL|         []|               NULL|\n",
      "| 16|    1033|Implement dynamic...|         0xKaito|     closed|2025-03-26 18:36:40|2025-03-26 19:06:24|         []|                  0|\n",
      "| 17|    1032|[Bug] [V2, V3, V4...|     defiveninth|       open|2025-03-22 16:22:56|               NULL|         []|               NULL|\n",
      "| 18|    1031|Add dynamic fee m...|    bajajanirudh|     closed|2025-03-07 18:53:10|2025-06-22 16:46:45|         []|                  3|\n",
      "| 19|    1030|allow compiler >=...|         Mathacc|     closed|2025-02-14 21:29:36|2025-06-22 01:43:02|['Mathacc']|                  4|\n",
      "+---+--------+--------------------+----------------+-----------+-------------------+-------------------+-----------+-------------------+\n",
      "only showing top 20 rows\n"
     ]
    }
   ],
   "execution_count": 12
  },
  {
   "metadata": {},
   "cell_type": "markdown",
   "source": "# Creating new columns from spark dataframe for Analysis",
   "id": "9f75de21ad21d03"
  },
  {
   "metadata": {
    "ExecuteTime": {
     "end_time": "2025-08-02T12:23:07.129923Z",
     "start_time": "2025-08-02T12:23:06.953004Z"
    }
   },
   "cell_type": "code",
   "source": [
    "spark_df = (spark_df\n",
    "            .withColumn(\"created_at\", to_timestamp(\"created_at\", \"yyyy-MM-dd HH:mm:ss\"))\n",
    "            .withColumn(\"closed_at\", to_timestamp(\"closed_at\", \"yyyy-MM-dd HH:mm:ss\"))\n",
    "            .withColumn(\"resolution_days\",date_diff(\"closed_at\",\"created_at\"))\n",
    "            .withColumn(\"resolution_hours\", (col(\"closed_at\").cast(\"long\") - col(\"created_at\").cast(\"long\")) / 3600)\n",
    "            .withColumn(\"created_month\", date_format(\"created_at\", \"yyyy-MM\"))\n",
    "            .withColumn(\"closed_month\", date_format(\"closed_at\", \"yyyy-MM\"))\n",
    "            .withColumn(\"duration_months\", months_between(col(\"closed_at\"), col(\"created_at\")).cast(\"int\")))\n",
    "spark_df.show()"
   ],
   "id": "2aaa5a9daedc6f3c",
   "outputs": [
    {
     "name": "stdout",
     "output_type": "stream",
     "text": [
      "+---+--------+--------------------+----------------+-----------+-------------------+-------------------+-----------+---------------+--------------------+-------------+------------+---------------+\n",
      "| id|issue_no|         issue_title|issue_created_by|issue_state|         created_at|          closed_at| commenters|resolution_days|    resolution_hours|created_month|closed_month|duration_months|\n",
      "+---+--------+--------------------+----------------+-----------+-------------------+-------------------+-----------+---------------+--------------------+-------------+------------+---------------+\n",
      "|  0|    1050|The reward criter...|       XXXJCSAMA|       open|2025-07-21 09:30:37|               NULL|         []|           NULL|                NULL|      2025-07|        NULL|           NULL|\n",
      "|  1|    1049|   Pool swapreferrer|         yurivin|     closed|2025-07-20 18:43:52|2025-07-20 18:54:56|         []|              0| 0.18444444444444444|      2025-07|     2025-07|              0|\n",
      "|  2|    1048|                 Jub|         jovxx44|       open|2025-07-18 14:58:57|               NULL|         []|           NULL|                NULL|      2025-07|        NULL|           NULL|\n",
      "|  3|    1047|fix comment of `c...|      zhiqiangxu|       open|2025-07-17 23:53:47|               NULL|         []|           NULL|                NULL|      2025-07|        NULL|           NULL|\n",
      "|  4|    1046|               Juben|         jovxx44|       open|2025-07-17 18:34:15|               NULL|         []|           NULL|                NULL|      2025-07|        NULL|           NULL|\n",
      "|  5|    1045|               Juben|         jovxx44|       open|2025-07-17 18:33:57|               NULL|         []|           NULL|                NULL|      2025-07|        NULL|           NULL|\n",
      "|  6|    1044|`_updatePosition`...|      zhiqiangxu|       open|2025-07-17 11:34:32|               NULL|         []|           NULL|                NULL|      2025-07|        NULL|           NULL|\n",
      "|  7|    1042|incorrect TVL val...|        tonik-ru|       open|2025-07-06 02:10:44|               NULL|         []|           NULL|                NULL|      2025-07|        NULL|           NULL|\n",
      "|  8|    1041|Request for Unisw...|       Fileofish|     closed|2025-06-19 15:29:46|2025-06-19 17:46:08|         []|              0|   2.272777777777778|      2025-06|     2025-06|              0|\n",
      "|  9|    1040|Remove flash feature|      UrfinDeuce|     closed|2025-06-03 15:12:47|2025-06-03 15:13:01|         []|              0|0.003888888888888...|      2025-06|     2025-06|              0|\n",
      "| 10|    1039|Swap event someti...|      DenyVeyten|       open|2025-05-27 17:29:21|               NULL|         []|           NULL|                NULL|      2025-05|        NULL|           NULL|\n",
      "| 11|    1038|Create generator-...|      AmandaG133|       open|2025-04-11 01:38:26|               NULL|         []|           NULL|                NULL|      2025-04|        NULL|           NULL|\n",
      "| 12|    1037|docs: removed the...|      Olexandr88|     closed|2025-04-02 16:06:49|2025-06-08 19:10:15|         []|             67|  1611.0572222222222|      2025-04|     2025-06|              2|\n",
      "| 13|    1036|                Test|         ramik10|     closed|2025-04-01 17:35:03|2025-04-01 17:35:27|         []|              0|0.006666666666666667|      2025-04|     2025-04|              0|\n",
      "| 14|    1035|Included support ...|         purriza|     closed|2025-03-31 20:45:17|2025-06-06 22:35:56|         []|             67|  1609.8441666666668|      2025-03|     2025-06|              2|\n",
      "| 15|    1034|      Duplicate code|        lyc-1025|       open|2025-03-27 07:58:37|               NULL|         []|           NULL|                NULL|      2025-03|        NULL|           NULL|\n",
      "| 16|    1033|Implement dynamic...|         0xKaito|     closed|2025-03-26 18:36:40|2025-03-26 19:06:24|         []|              0|  0.4955555555555556|      2025-03|     2025-03|              0|\n",
      "| 17|    1032|[Bug] [V2, V3, V4...|     defiveninth|       open|2025-03-22 16:22:56|               NULL|         []|           NULL|                NULL|      2025-03|        NULL|           NULL|\n",
      "| 18|    1031|Add dynamic fee m...|    bajajanirudh|     closed|2025-03-07 18:53:10|2025-06-22 16:46:45|         []|            107|  2565.8930555555557|      2025-03|     2025-06|              3|\n",
      "| 19|    1030|allow compiler >=...|         Mathacc|     closed|2025-02-14 21:29:36|2025-06-22 01:43:02|['Mathacc']|            128|  3052.2238888888887|      2025-02|     2025-06|              4|\n",
      "+---+--------+--------------------+----------------+-----------+-------------------+-------------------+-----------+---------------+--------------------+-------------+------------+---------------+\n",
      "only showing top 20 rows\n"
     ]
    }
   ],
   "execution_count": 30
  },
  {
   "metadata": {},
   "cell_type": "markdown",
   "source": "# Getting top n commenters",
   "id": "86034241feffdbc9"
  },
  {
   "metadata": {},
   "cell_type": "code",
   "source": [
    "top_n_commentators = 10\n",
    "array_schema = ArrayType(StringType())\n",
    "spark_df = spark_df.withColumn(\"evaluated_array\", from_json(spark_df[\"commenters\"], array_schema))\n",
    "top_ten_names = spark_df.select(explode(\"evaluated_array\")).groupBy(\"col\").count().orderBy(desc(\"count\")).limit(\n",
    "    top_n_commentators)\n",
    "top_ten_names.show()"
   ],
   "id": "5524f98099f918bc",
   "outputs": [],
   "execution_count": null
  },
  {
   "metadata": {},
   "cell_type": "markdown",
   "source": "# calculating the Average issues resolution time month wise",
   "id": "c5576cd3e1f0d403"
  },
  {
   "metadata": {
    "ExecuteTime": {
     "end_time": "2025-08-02T12:27:21.860845Z",
     "start_time": "2025-08-02T12:27:21.637622Z"
    }
   },
   "cell_type": "code",
   "source": [
    "avg_resol_time = spark_df.where(col(\"closed_at\").isNotNull()).groupBy(\"closed_month\").agg(ceiling(avg(\"resolution_days\")).alias(\"avg_resolution_days\")).orderBy(\"closed_month\")\n",
    "avg_resol_time.show()"
   ],
   "id": "a3dbe21830cd8034",
   "outputs": [
    {
     "name": "stdout",
     "output_type": "stream",
     "text": [
      "+------------+-------------------+\n",
      "|closed_month|avg_resolution_days|\n",
      "+------------+-------------------+\n",
      "|     2020-06|                 11|\n",
      "|     2020-07|                 23|\n",
      "|     2020-08|                 25|\n",
      "|     2020-09|                 10|\n",
      "|     2020-10|                 38|\n",
      "|     2020-11|                  5|\n",
      "|     2020-12|                  8|\n",
      "|     2021-01|                  6|\n",
      "|     2021-02|                  6|\n",
      "|     2021-03|                  2|\n",
      "|     2021-04|                  6|\n",
      "|     2021-05|                  1|\n",
      "|     2021-06|                 21|\n",
      "|     2021-08|                 20|\n",
      "|     2021-09|                  0|\n",
      "|     2021-10|                  0|\n",
      "|     2021-11|                  0|\n",
      "|     2021-12|                  1|\n",
      "|     2022-01|                 17|\n",
      "|     2022-03|                 14|\n",
      "+------------+-------------------+\n",
      "only showing top 20 rows\n"
     ]
    }
   ],
   "execution_count": 34
  },
  {
   "metadata": {
    "tags": [
     "fg"
    ]
   },
   "cell_type": "markdown",
   "source": [
    "# Calculation issue month over month change percentage\n",
    "## 3 steps:\n",
    "\n",
    "      * Count the number of issues in a month.\n",
    "      * Prepare for looking at the \"previous\" row (create previous month issue using current month issue)\n",
    "      * Finally Calculating the percentage of issue by month over month.\n"
   ],
   "id": "8b91274f3624f6da"
  },
  {
   "metadata": {
    "ExecuteTime": {
     "end_time": "2025-08-02T12:31:00.748091Z",
     "start_time": "2025-08-02T12:31:00.551791Z"
    }
   },
   "cell_type": "code",
   "source": [
    "df_monthly_issues = spark_df.groupBy(\"created_month\") \\\n",
    "        .agg(count(col(\"issue_no\")).alias(\"current_month_issues\")) \\\n",
    "        .orderBy(\"created_month\")\n",
    "print(\"Issues Count month-wise:\\n\")\n",
    "print(df_monthly_issues.show())\n"
   ],
   "id": "a09ddcf7003f8fcd",
   "outputs": [
    {
     "name": "stdout",
     "output_type": "stream",
     "text": [
      "Issues Count month-wise:\n",
      "\n",
      "+-------------+--------------------+\n",
      "|created_month|current_month_issues|\n",
      "+-------------+--------------------+\n",
      "|      2020-05|                   1|\n",
      "|      2020-06|                  28|\n",
      "|      2020-07|                  13|\n",
      "|      2020-08|                  21|\n",
      "|      2020-09|                   8|\n",
      "|      2020-10|                  40|\n",
      "|      2020-11|                  60|\n",
      "|      2020-12|                  75|\n",
      "|      2021-01|                 124|\n",
      "|      2021-02|                  57|\n",
      "|      2021-03|                  23|\n",
      "|      2021-04|                  13|\n",
      "|      2021-05|                   6|\n",
      "|      2021-06|                   1|\n",
      "|      2021-07|                   1|\n",
      "|      2021-09|                   1|\n",
      "|      2021-10|                   1|\n",
      "|      2021-11|                   5|\n",
      "|      2021-12|                   5|\n",
      "|      2022-01|                   6|\n",
      "+-------------+--------------------+\n",
      "only showing top 20 rows\n",
      "None\n"
     ]
    }
   ],
   "execution_count": 36
  },
  {
   "metadata": {
    "ExecuteTime": {
     "end_time": "2025-08-02T12:32:21.571936Z",
     "start_time": "2025-08-02T12:32:21.292699Z"
    }
   },
   "cell_type": "code",
   "source": [
    "# 2. Prepare for looking at the \"previous\" row\n",
    "window_definition = Window.orderBy(\"created_month\")\n",
    "\n",
    "df_with_previous_count = df_monthly_issues.withColumn(\n",
    "    \"previous_month_issues\",\n",
    "    lag(col(\"current_month_issues\"), 1).over(window_definition)\n",
    ")\n",
    "print(\"\\nStep 2: Monthly Counts with Previous Month's Count:\")\n",
    "print(df_with_previous_count.show())\n",
    "\n",
    "\n"
   ],
   "id": "8c25acadc979033d",
   "outputs": [
    {
     "name": "stdout",
     "output_type": "stream",
     "text": [
      "\n",
      "Step 2: Monthly Counts with Previous Month's Count:\n",
      "+-------------+--------------------+---------------------+\n",
      "|created_month|current_month_issues|previous_month_issues|\n",
      "+-------------+--------------------+---------------------+\n",
      "|      2020-05|                   1|                 NULL|\n",
      "|      2020-06|                  28|                    1|\n",
      "|      2020-07|                  13|                   28|\n",
      "|      2020-08|                  21|                   13|\n",
      "|      2020-09|                   8|                   21|\n",
      "|      2020-10|                  40|                    8|\n",
      "|      2020-11|                  60|                   40|\n",
      "|      2020-12|                  75|                   60|\n",
      "|      2021-01|                 124|                   75|\n",
      "|      2021-02|                  57|                  124|\n",
      "|      2021-03|                  23|                   57|\n",
      "|      2021-04|                  13|                   23|\n",
      "|      2021-05|                   6|                   13|\n",
      "|      2021-06|                   1|                    6|\n",
      "|      2021-07|                   1|                    1|\n",
      "|      2021-09|                   1|                    1|\n",
      "|      2021-10|                   1|                    1|\n",
      "|      2021-11|                   5|                    1|\n",
      "|      2021-12|                   5|                    5|\n",
      "|      2022-01|                   6|                    5|\n",
      "+-------------+--------------------+---------------------+\n",
      "only showing top 20 rows\n",
      "None\n"
     ]
    }
   ],
   "execution_count": 38
  },
  {
   "metadata": {
    "ExecuteTime": {
     "end_time": "2025-08-02T12:37:42.356669Z",
     "start_time": "2025-08-02T12:37:42.082020Z"
    }
   },
   "cell_type": "code",
   "source": [
    "# 3. Get the \"Previous Month Issue Count\"\n",
    "\n",
    "df_mom_pct_change = df_with_previous_count.withColumn(\n",
    "    \"mom_percentage_change\",\n",
    "    when(col(\"previous_month_issues\").isNull(), None)\n",
    "    .when(col(\"previous_month_issues\") == 0, None)\n",
    "    .otherwise(\n",
    "        ((col(\"current_month_issues\") - col(\"previous_month_issues\")) / col(\"previous_month_issues\")) * 100\n",
    "    )\n",
    ")\n",
    "\n",
    "print(\"\\nStep 3: Monthly issues with month over month Percentage Change:\")\n",
    "print(df_mom_pct_change.show())"
   ],
   "id": "266e92f9337727ba",
   "outputs": [
    {
     "name": "stdout",
     "output_type": "stream",
     "text": [
      "\n",
      "Step 3: Monthly issues with month over month Percentage Change:\n",
      "+-------------+--------------------+---------------------+---------------------+\n",
      "|created_month|current_month_issues|previous_month_issues|mom_percentage_change|\n",
      "+-------------+--------------------+---------------------+---------------------+\n",
      "|      2020-05|                   1|                 NULL|                 NULL|\n",
      "|      2020-06|                  28|                    1|               2700.0|\n",
      "|      2020-07|                  13|                   28|   -53.57142857142857|\n",
      "|      2020-08|                  21|                   13|    61.53846153846154|\n",
      "|      2020-09|                   8|                   21|  -61.904761904761905|\n",
      "|      2020-10|                  40|                    8|                400.0|\n",
      "|      2020-11|                  60|                   40|                 50.0|\n",
      "|      2020-12|                  75|                   60|                 25.0|\n",
      "|      2021-01|                 124|                   75|    65.33333333333333|\n",
      "|      2021-02|                  57|                  124|   -54.03225806451613|\n",
      "|      2021-03|                  23|                   57|   -59.64912280701754|\n",
      "|      2021-04|                  13|                   23|   -43.47826086956522|\n",
      "|      2021-05|                   6|                   13|   -53.84615384615385|\n",
      "|      2021-06|                   1|                    6|   -83.33333333333334|\n",
      "|      2021-07|                   1|                    1|                  0.0|\n",
      "|      2021-09|                   1|                    1|                  0.0|\n",
      "|      2021-10|                   1|                    1|                  0.0|\n",
      "|      2021-11|                   5|                    1|                400.0|\n",
      "|      2021-12|                   5|                    5|                  0.0|\n",
      "|      2022-01|                   6|                    5|                 20.0|\n",
      "+-------------+--------------------+---------------------+---------------------+\n",
      "only showing top 20 rows\n",
      "None\n"
     ]
    }
   ],
   "execution_count": 39
  },
  {
   "metadata": {},
   "cell_type": "markdown",
   "source": "# Calculation of Issue duration time using sql query.",
   "id": "7855b8d674db8e4c"
  },
  {
   "metadata": {
    "ExecuteTime": {
     "end_time": "2025-08-03T07:54:52.407646Z",
     "start_time": "2025-08-03T07:54:51.179089Z"
    }
   },
   "cell_type": "code",
   "source": [
    "query=\"\"\"\n",
    "    SELECT\n",
    "        DATE_FORMAT(closed_at, 'yyyy-MM') AS year_month,\n",
    "        CEIL(AVG(\n",
    "            (UNIX_TIMESTAMP(closed_at) - UNIX_TIMESTAMP(created_at)) / 3600\n",
    "        )) AS avg_closing_hours,\n",
    "        CEIL(AVG(DATEDIFF(closed_at, created_at))) AS avg_closing_days\n",
    "    FROM issues WHERE closed_at IS NOT NULL\n",
    "    GROUP BY\n",
    "        year_month\n",
    "    ORDER BY\n",
    "        year_month\n",
    "\n",
    "\"\"\"\n",
    "spark.sql(query).show()\n",
    "spark.stop()"
   ],
   "id": "15f7caaf7787cfe2",
   "outputs": [
    {
     "name": "stdout",
     "output_type": "stream",
     "text": [
      "+----------+-----------------+----------------+\n",
      "|year_month|avg_closing_hours|avg_closing_days|\n",
      "+----------+-----------------+----------------+\n",
      "|   2020-06|              246|              11|\n",
      "|   2020-07|              548|              23|\n",
      "|   2020-08|              588|              25|\n",
      "|   2020-09|              240|              10|\n",
      "|   2020-10|              889|              38|\n",
      "|   2020-11|               97|               5|\n",
      "|   2020-12|              174|               8|\n",
      "|   2021-01|              138|               6|\n",
      "|   2021-02|              126|               6|\n",
      "|   2021-03|               31|               2|\n",
      "|   2021-04|              131|               6|\n",
      "|   2021-05|               11|               1|\n",
      "|   2021-06|              512|              21|\n",
      "|   2021-08|              498|              20|\n",
      "|   2021-09|                1|               0|\n",
      "|   2021-10|                1|               0|\n",
      "|   2021-11|                4|               0|\n",
      "|   2021-12|               22|               1|\n",
      "|   2022-01|              388|              17|\n",
      "|   2022-03|              318|              14|\n",
      "+----------+-----------------+----------------+\n",
      "only showing top 20 rows\n"
     ]
    }
   ],
   "execution_count": 4
  }
 ],
 "metadata": {
  "kernelspec": {
   "display_name": "Python 3",
   "language": "python",
   "name": "python3"
  },
  "language_info": {
   "codemirror_mode": {
    "name": "ipython",
    "version": 2
   },
   "file_extension": ".py",
   "mimetype": "text/x-python",
   "name": "python",
   "nbconvert_exporter": "python",
   "pygments_lexer": "ipython2",
   "version": "2.7.6"
  }
 },
 "nbformat": 4,
 "nbformat_minor": 5
}
